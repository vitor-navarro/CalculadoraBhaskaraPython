{
  "nbformat": 4,
  "nbformat_minor": 0,
  "metadata": {
    "colab": {
      "provenance": [],
      "mount_file_id": "1LAT9L7tu6w4I9nAR_Z03hAYC8t0tuyme",
      "authorship_tag": "ABX9TyNZ4yjLv477CBqeU7AuUbSK",
      "include_colab_link": true
    },
    "kernelspec": {
      "name": "python3",
      "display_name": "Python 3"
    },
    "language_info": {
      "name": "python"
    }
  },
  "cells": [
    {
      "cell_type": "markdown",
      "metadata": {
        "id": "view-in-github",
        "colab_type": "text"
      },
      "source": [
        "<a href=\"https://colab.research.google.com/github/vitor-navarro/CalculadoraBhaskaraPython/blob/main/Untitled0.ipynb\" target=\"_parent\"><img src=\"https://colab.research.google.com/assets/colab-badge.svg\" alt=\"Open In Colab\"/></a>"
      ]
    },
    {
      "cell_type": "code",
      "source": [
        "pip install python-docx"
      ],
      "metadata": {
        "colab": {
          "base_uri": "https://localhost:8080/"
        },
        "id": "JQTGIjCEw0EX",
        "outputId": "204a76c3-12d8-4e05-e71e-17d4760824e4"
      },
      "execution_count": null,
      "outputs": [
        {
          "output_type": "stream",
          "name": "stdout",
          "text": [
            "Collecting python-docx\n",
            "  Downloading python_docx-1.1.2-py3-none-any.whl (244 kB)\n",
            "\u001b[?25l     \u001b[90m━━━━━━━━━━━━━━━━━━━━━━━━━━━━━━━━━━━━━━━━\u001b[0m \u001b[32m0.0/244.3 kB\u001b[0m \u001b[31m?\u001b[0m eta \u001b[36m-:--:--\u001b[0m\r\u001b[2K     \u001b[91m━━━━━━━━━━━━━\u001b[0m\u001b[90m╺\u001b[0m\u001b[90m━━━━━━━━━━━━━━━━━━━━━━━━━━\u001b[0m \u001b[32m81.9/244.3 kB\u001b[0m \u001b[31m2.3 MB/s\u001b[0m eta \u001b[36m0:00:01\u001b[0m\r\u001b[2K     \u001b[90m━━━━━━━━━━━━━━━━━━━━━━━━━━━━━━━━━━━━━━━━\u001b[0m \u001b[32m244.3/244.3 kB\u001b[0m \u001b[31m3.4 MB/s\u001b[0m eta \u001b[36m0:00:00\u001b[0m\n",
            "\u001b[?25hRequirement already satisfied: lxml>=3.1.0 in /usr/local/lib/python3.10/dist-packages (from python-docx) (4.9.4)\n",
            "Requirement already satisfied: typing-extensions>=4.9.0 in /usr/local/lib/python3.10/dist-packages (from python-docx) (4.11.0)\n",
            "Installing collected packages: python-docx\n",
            "Successfully installed python-docx-1.1.2\n"
          ]
        }
      ]
    },
    {
      "cell_type": "code",
      "execution_count": 116,
      "metadata": {
        "colab": {
          "base_uri": "https://localhost:8080/"
        },
        "id": "71ogPj7S6X-t",
        "outputId": "1da9bf11-31fa-4afb-b9bb-c9318396db08"
      },
      "outputs": [
        {
          "output_type": "stream",
          "name": "stdout",
          "text": [
            "    QUANTIDADE         PRODUTO   FORNECEDOR   MEDIDA MARQUE O QUE COMPROU\n",
            "9         2431           KLFAS      IRONICE   GRAMAS                    X\n",
            "11          13          FSAFSA  JUBSCLEITON   GRAMAS                    X\n",
            "1            3       REQUEIJÃO      MATHIAS  Unidade                    X\n",
            "5            3  CREME DE LEITE      MATHIAS  Unidade                    X\n",
            "7            3    ACHOCOLATADO      MATHIAS  Unidade                    X\n",
            "0            2          BATATA       MORENO       KG                    X\n",
            "10          41           FASFA         NAIR   GRAMAS                    X\n",
            "2          200        PRESUNTO      ROGERIO   GRAMAS                    x\n",
            "12          12         FGSAFSA        VITOR   GRAMAS                    X\n"
          ]
        }
      ],
      "source": [
        "caminho_planilha = \"/content/drive/MyDrive/automações google colab/Josiane/Lista de compras/PLANILHA DE TESTE.xlsx\"\n",
        "caminho_salvar_arquivo_doc = \"./test\"\n",
        "\n",
        "import pandas as pd\n",
        "\n",
        "df_excel = pd.read_excel(caminho_planilha)\n",
        "df = pd.DataFrame(df_excel)\n",
        "df = df.dropna(subset=['MARQUE O QUE COMPROU'])\n",
        "df = df.sort_values('FORNECEDOR')\n",
        "\n",
        "#proximo bloco\n",
        "\n",
        "print(df)"
      ]
    },
    {
      "cell_type": "code",
      "source": [
        "import docx\n",
        "\n",
        "doc = docx.Document()\n",
        "\n",
        "titulo = doc.add_heading(\"Lista de Compras\")\n",
        "titulo.alignment = 1\n",
        "\n",
        "unicos = df['FORNECEDOR'].unique()\n",
        "\n",
        "colunas_tabela = len(unicos)\n",
        "#criar um if para caso seja mais de 3 colunas ele ir para a próxima linha\n",
        "\n",
        "#cria a tabela\n",
        "tabela = doc.add_table(cols = colunas_tabela, rows = 1)\n",
        "#cria a primeira linha da tabela\n",
        "primeira_linha_tabela = tabela.add_row()\n",
        "\n",
        "#adiciona a primeira linha a tabela, com o nome de cada um dos fornecedores\n",
        "for i, valor in enumerate(unicos):\n",
        "    tabela.cell(0, i).text = str(valor)\n",
        "    #print(i, valor)\n",
        "\n",
        "#Para colocar na linha correta cada um dos registros\n",
        "variaveis_de_conferencia = {item: 1 for i, item in enumerate(unicos)}\n",
        "\n",
        "#preencher a tabela\n",
        "for row in df.iterrows():\n",
        "  #print(row[1])\n",
        "  #print(row[1]['MARQUE O QUE COMPROU'])\n",
        "  quantidade = str(row[1]['QUANTIDADE'])\n",
        "  unidade = str(row[1]['MEDIDA'])\n",
        "  produto = str(row[1]['PRODUTO'])\n",
        "  tabela.add_row()\n",
        "\n",
        "  for coluna, valor in enumerate(unicos):\n",
        "    if row[1]['FORNECEDOR'] == valor:\n",
        "      linha = variaveis_de_conferencia[valor]\n",
        "      tabela.cell(linha,coluna).text = (quantidade + \" \" + unidade + \" \" + produto)\n",
        "      variaveis_de_conferencia[valor] += 1\n",
        "\n",
        "  linha+=1\n",
        "\n",
        "\n",
        "doc.save(caminho_salvar_arquivo_doc + \".docx\")"
      ],
      "metadata": {
        "id": "MKGVnEuX7TqY"
      },
      "execution_count": 117,
      "outputs": []
    },
    {
      "cell_type": "code",
      "source": [],
      "metadata": {
        "colab": {
          "base_uri": "https://localhost:8080/"
        },
        "id": "PUeDKCOU9iiA",
        "outputId": "ba332071-dbc3-437a-f6c9-cb02f8a4378f"
      },
      "execution_count": null,
      "outputs": [
        {
          "output_type": "stream",
          "name": "stdout",
          "text": [
            "<docx.table.Table object at 0x7e8f4e5b6350>\n"
          ]
        }
      ]
    }
  ]
}